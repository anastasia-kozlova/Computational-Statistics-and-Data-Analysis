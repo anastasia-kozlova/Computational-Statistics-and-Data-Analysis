{
 "cells": [
  {
   "cell_type": "markdown",
   "metadata": {},
   "source": [
    "### Метод Монте-Карло для оценки объема 5-мерного гипершара радиуса 1.\n",
    "\n",
    "В статье D.S.K. Fok  & D. Crevier содержится краткий обзор метода Монте-Карло «попал или не попал» для того, чтобы оценить следующий интеграл:\n",
    "\n",
    "<center> $ I = \\displaystyle \\int \\limits_{R_{g}}  g(x){dx}$\n",
    "\n",
    "где функция $ g(x)$ предполагается неотрицательной и ограниченной. $R$ является областью определения $x$ в $(d-1)$ -мерном пространстве.\n",
    "\n",
    "Пусть $R$ обозначает $d$-мерную область, как определено ниже:\n",
    "\n",
    "<center>$R ≜$ {$(x,y)^{T}:x\\in R_{g}$ , $ y \\le g(x)$}\n",
    "\n",
    "Тогда интеграл $I$ является объемом $V$ области $R$. Построим еще одну область $R_{s}$ с известным объемом $V_{s}$, такую, что $R$ содержится в $R_{s}$. Покрывающая область $R_{s}$ должна представлять собой простую геометрическую фигуру (например, гиперкуб), чтобы над ней можно было легко генерировать случайные точки.\n",
    "\n",
    "Генерируя $n$ случайных точек, равномерно распределенных на $R_{s}$, отношение $p ≜ V/V_{s}$ и объем $V$ можно оценить как\n",
    "\n",
    "<center> $\\displaystyle\\hat{p}=\\displaystyle\\frac{n_{r}}{n}$\n",
    "    \n",
    "<center> $\\hat{V}= \\hat{p}V_{s}$\n",
    "\n",
    "где $n_{r}$ - число случайных точек из $n$ в R.\n",
    "\n",
    "Для того, чтобы определить объем 5-мерной гипершара радиуса 1, необходимо оценить 5-мерный интеграл. \n",
    "\n",
    "5-мерный гипершар радиуса 1 определяется как $ x_{1}^2 + x_{2}^2 + x_{3}^2 + x_{4}^2+x_{5}^2 \\le 1$.\n",
    "\n",
    "Чтобы найти объем гипершара, необходимо сгенерировать 5 случайных равномерно распределенных на интервале от 0 до 1 величин $n$ раз и посчитать, сколько из них попало внутрь шара.\n",
    "\n",
    "*Fok, D. S. K., & Crevier, D. (1989). Volume estimation by monte carlo methods*. Journal of Statistical Computation and Simulation, 31(4), 223–235.*"
   ]
  },
  {
   "cell_type": "code",
   "execution_count": 8,
   "metadata": {},
   "outputs": [
    {
     "name": "stdout",
     "output_type": "stream",
     "text": [
      "Объем гипершара с помощью МК: 5.30464\n"
     ]
    }
   ],
   "source": [
    "import random\n",
    "\n",
    "d = 5\n",
    "n = 100000\n",
    "n_r = 0\n",
    "V_s = 2**d\n",
    "for i in range(n):\n",
    "    X = np.random.uniform(0,1,d)\n",
    "    if sum(X**2)**0.5 <= 1:\n",
    "        n_r += 1\n",
    "print(\"Объем гипершара с помощью МК:\",n_r*V_s/n)"
   ]
  },
  {
   "cell_type": "markdown",
   "metadata": {},
   "source": [
    "Для того, чтобы сравнить результат симуляции метода Монте-Карло с ожидаемыми результатами, рассчитаем объем гипершара, исходя из следующей формулы:\n",
    "\n",
    "<center> $V=\\displaystyle\\frac{8}{15}\\pi^2 $\n",
    "\n",
    "*Loskot, P., & Beaulieu, N. C. (2007). On monotonicity of the hypersphere volume and area. Journal of Geometry, 87(1-2), 96–98.*"
   ]
  },
  {
   "cell_type": "code",
   "execution_count": 9,
   "metadata": {
    "scrolled": true
   },
   "outputs": [
    {
     "name": "stdout",
     "output_type": "stream",
     "text": [
      "Объем гипершара: 5.263789013914324\n"
     ]
    }
   ],
   "source": [
    "print(\"Объем гипершара:\",8/15*math.pi**2)"
   ]
  },
  {
   "cell_type": "markdown",
   "metadata": {},
   "source": [
    "Таким образом, можно сделать вывод о том, что объем, полученный методом Монте-Карло, практически совпадает с точной оценкой."
   ]
  },
  {
   "cell_type": "markdown",
   "metadata": {},
   "source": [
    "#### *Иследование зависимости объема шара от размерности*\n",
    "\n",
    "Объем шара радиуса $R$ в $\\mathbb {R}^n$:\n",
    "\n",
    "$V_{n}(R)=\\displaystyle \\int \\limits^{R}_{0}{dr}\\int \\limits_{S_{r}}{dS}=\\omega_{n-1}\\displaystyle \\int \\limits^{R}_{0}r^{n-1}{dr}=\\omega_{n-1}\\frac{R^2}{n}$\n",
    "\n",
    "$\\omega_{n-1}$ - площадь еденичной сферы в $\\mathbb {R}^n$; $S_{r}$ - сфера радиуса $R$.\n",
    "\n",
    "Рассмотрим в $\\mathbb {R}^n$ функцию $e^{-x^2_{1}-x^2_{2}-...-x^2_{n}}$ и проинтегрируем ее по всему пространству $\\mathbb {R}^n$ двумя способами: "
   ]
  },
  {
   "cell_type": "markdown",
   "metadata": {},
   "source": [
    "1) *стандартным образом в декартовых координатах*\n",
    "\n",
    "$\\displaystyle \\int \\limits \\int \\limits_{\\mathbb {R}^n}... \\int \\limits e^{-x^2_{1}-x^2_{2}-...-x^2_{n}} {dx_{1}}{dx_{2}}...{dx_{n}}= \\displaystyle\\int \\limits^\\infty_{-\\infty}e^{-x^2_{1}}{dx_{1}}\\int \\limits^\\infty_{-\\infty}e^{-x^2_{2}}{dx_{2}} ...\\int \\limits^\\infty_{-\\infty}e^{-x^2_{n}}{dx_{n}}=(\\sqrt{\\pi})^n$\n",
    "\n",
    "2) *сначала по сфере радиусом r, а затем по r*\n",
    "\n",
    "$\\displaystyle \\int \\limits \\int \\limits_{\\mathbb {R}^n}... \\int \\limits e^{-x^2_{1}-x^2_{2}-...-x^2_{n}} {dx_{1}}{dx_{2}}...{dx_{n}}= \\displaystyle\\int \\limits^\\infty_{0}e^{-r^2}{dr}\\int \\limits_{S_{r}}{dS} = $\n",
    "\n",
    "$= \\displaystyle \\int \\limits^{\\infty}_{0}\\omega_{n-1}r^{n-1}e^{-r^2}{dr}\\frac{1}{2}\\omega_{n-1} \\int \\limits^{\\infty}_{0}t^{\\frac{n}{2}-1}e^{-t}{dt}=\\frac{1}{2}\\omega_{n-1}\\Gamma(\\frac{n}{2})$\n",
    "\n",
    "Тогда для площади сферы и объема шара радиусом 1 получаем:\n",
    "\n",
    "$\\displaystyle \\omega_{n-1} = \\frac{\\displaystyle 2\\pi^{\\frac{n}{2}}}{\\displaystyle\\Gamma(\\frac{n}{2})}$\n",
    "\n",
    "$\\displaystyle V_{n} = \\frac{\\displaystyle 2\\pi^{\\frac{n}{2}}}{\\displaystyle\\Gamma(\\frac{n}{2})}=\\frac{\\omega_{n-1}}{n}=\\frac{\\displaystyle 2\\pi^{\\frac{n}{2}}}{\\displaystyle n \\Gamma(\\frac{n}{2})}=\\frac{\\displaystyle \\pi^{\\frac{n}{2}}}{\\displaystyle \\Gamma(\\frac{n}{2}+1)}$\n",
    "\n",
    "\n",
    "*Huber, G. Gamma Function Derivation of n-Sphere Volumes. The American Mathematical Monthly, 1982, 89(5), 301–302.\n",
    "Неклюдов А.В. Некоторые нестандартные доказательства и задачи в курсе математического анализа. Инженерный журнал: наука и инновации , 2013, №5.*"
   ]
  },
  {
   "cell_type": "code",
   "execution_count": 10,
   "metadata": {},
   "outputs": [],
   "source": [
    "from scipy.special import gamma\n",
    "\n",
    "N = range(1,25)\n",
    "lst_volume = []\n",
    "for i in N:\n",
    "    lst_volume.append(math.pi**(i/2)/(gamma(i/2+1)))"
   ]
  },
  {
   "cell_type": "code",
   "execution_count": 11,
   "metadata": {},
   "outputs": [],
   "source": [
    "volume = []\n",
    "for j in range(1,25):\n",
    "    d = j\n",
    "    n = 100000\n",
    "    n_r = 0\n",
    "    V_s = 2**d\n",
    "    for i in range(n):\n",
    "        X = np.random.uniform(0,1,d)\n",
    "        if sum(X**2)**0.5 <= 1:\n",
    "            n_r += 1\n",
    "    volume.append(n_r*V_s/n)"
   ]
  },
  {
   "cell_type": "code",
   "execution_count": 12,
   "metadata": {
    "scrolled": true
   },
   "outputs": [
    {
     "data": {
      "image/png": "[encoded data removed]",
      "text/plain": [
       "<Figure size 432x288 with 1 Axes>"
      ]
     },
     "metadata": {
      "needs_background": "light"
     },
     "output_type": "display_data"
    }
   ],
   "source": [
    "plt.plot(N, lst_volume, 'r')\n",
    "plt.plot(N, volume, 'g')\n",
    "plt.legend(('Теоретическая оценка объема', 'Полученная оценка объема'),\n",
    "           loc='upper right')\n",
    "plt.xlabel('Размерность')\n",
    "plt.ylabel('Объем')\n",
    "plt.show()"
   ]
  },
  {
   "cell_type": "code",
   "execution_count": 13,
   "metadata": {},
   "outputs": [
    {
     "data": {
      "text/plain": [
       "4"
      ]
     },
     "execution_count": 13,
     "metadata": {},
     "output_type": "execute_result"
    }
   ],
   "source": [
    "lst_volume.index(max(lst_volume))"
   ]
  },
  {
   "cell_type": "markdown",
   "metadata": {},
   "source": [
    "Таким образом, объем гипершара растет до тех пор, пока его размерность не превышает 4, далее с увеличение размерности его объем постепенно уменьшается."
   ]
  },
  {
   "cell_type": "code",
   "execution_count": null,
   "metadata": {},
   "outputs": [],
   "source": []
  }
 ],
 "metadata": {
  "kernelspec": {
   "display_name": "Python 3",
   "language": "python",
   "name": "python3"
  },
  "language_info": {
   "codemirror_mode": {
    "name": "ipython",
    "version": 3
   },
   "file_extension": ".py",
   "mimetype": "text/x-python",
   "name": "python",
   "nbconvert_exporter": "python",
   "pygments_lexer": "ipython3",
   "version": "3.8.5"
  }
 },
 "nbformat": 4,
 "nbformat_minor": 4
}
