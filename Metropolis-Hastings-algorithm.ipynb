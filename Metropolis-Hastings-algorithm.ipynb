{
 "cells": [
  {
   "cell_type": "markdown",
   "metadata": {},
   "source": [
    "### Алгоритм Метрополиса-Гастингса для модели Эрдёша — Реньи"
   ]
  },
  {
   "cell_type": "markdown",
   "metadata": {},
   "source": [
    "**Модель Эрдёша — Реньи**\n",
    "\n",
    "Рассматриваются неориентированные графы без кратных ребер и петель.\n",
    "\n",
    "Дано $V = {1,...,n}$ - множество вершины графа.\n",
    "\n",
    "У графа существует не больше, чем $C^2_{n}$ потенциальных ребер.\n",
    "\n",
    "$p \\in (0,1)$ - вероятность появления ребра между $i$ и $j$ вершинами независимо от всех остальных $C^2_{n}-1$ пар вершин.\n",
    "\n",
    "$E$ - случайное множество ребер графа. \n",
    "\n",
    "Таким образом, $G = (V,E)$ - случайный граф в модели Эрдеша – Реньи.\n",
    "\n",
    "*А.М. Райгородский, Модели случайных графов и их применения, ТРУДЫ МФТИ. — 2010. — т. 2, № 4*"
   ]
  },
  {
   "cell_type": "markdown",
   "metadata": {},
   "source": [
    "**Генерирование случайного графа с помощью матрицы смежности**\n",
    "\n",
    "Граф задается матрицей смежности $A$ с элементами $A_{i,j}$ такими, что $A_{i,j} = 0$ или 1  зависимости от того, связаны вершины $i$ и $j$ или нет. Матрица смежности является симметричной (т.е. $A_{i,j}= A_{j,i}$) и имеет 0 на диагонали (т.е. $A_{i,i} = 0$). \n",
    "\n",
    "Модель случайного графа определяет распределение вероятностей по указанному набору возможных графов $\\mathbb {G} = $ {$G$}, так что вероятность $P (G)$ конкретного графа $G$ пропорциональна $e^{H(G)}$ и имеет вид:\n",
    "\n",
    "<center> $P(G) = \\displaystyle \\frac{e^{H(G)}}{Z}$\n",
    "    \n",
    "где $H (G) = \\theta E(G)$. \n",
    "\n",
    "$\\theta$ - параметр, связанный с вероятностью появления ребра $p$;\n",
    "\n",
    "$ E(G) = \\sum^n_{i = 1} \\sum^n_{j =i+ 1}  A_{i,j}(G)$ - количество ребер графа $G$;\n",
    "\n",
    "$Z = \\sum_{G \\in \\mathbb {G}} \\prod _{i=1}^{n} \\prod _{i=1}^{n} e^{\\theta A_{i,j}} = (1+e^{\\theta})^{C^2_{n}}$\n",
    "\n",
    "Из этого выражения можно вычислить свободную энергию:\n",
    "\n",
    "$F = \\ln{Z} =C^2_{n}\\ln(1+e^{\\theta}) $\n",
    "\n",
    "Среднее количество ребер равно:\n",
    "\n",
    "$\\langle E \\rangle =\\displaystyle\\frac{\\partial F}{\\partial \\theta}=C^2_{n}\\frac{e^{\\theta}}{1+e^{\\theta}}$\n",
    "\n",
    "$\\langle E \\rangle =C^2_{n}p$\n",
    "\n",
    "Тогда\n",
    "\n",
    "$p =\\displaystyle \\frac{e^{\\theta}}{1+e^{\\theta}}$,\n",
    "\n",
    "$\\theta =\\displaystyle \\ln \\frac {p}{1-p}$\n",
    "\n",
    "**Алгоритм Метрополиса-Гастингса**\n",
    "\n",
    "1) Создается простой граф с помощью матрицы смежности с заданным числом узлов $n$. Начальной конфигурацией может быть, например, граф без ребер.\n",
    "\n",
    "2) Случайным образом выбирает матричный элемент, $A_{i,j}(G)$, который должен быть рассмотрен на предмет изменения.  Для случая, когда $A_{i,j}(G)=1$ ( $0$, соответственно), рассматривают удаление (добавление) ребра, то есть $A_{i,j} (G ') = 0$ ( $1$, соответственно). \n",
    "\n",
    "3) Считаем константу Метрополиса:\n",
    "\n",
    "<center> $A(G,G') = \\min\\{1, \\displaystyle\\frac{e^{\\theta E(G')}}{e^{\\theta E(G)}}\\}= \\min\\{1, e^{\\theta(E(G')-E(G))} \\}= \\min\\{1, e^{\\Delta H} \\}$\n",
    "    \n",
    "Так как претендент на новую конфигурацию графа отличается от графа на одно ребро, $\\Delta H = \\pm \\theta$.\n",
    "\n",
    "4) Проверяем условие принятия\n",
    "\n",
    "*Agata Fronczak, “Exponential random graph models”, Encyclopedia of Social Network Analysis and Mining - 2012.*"
   ]
  },
  {
   "cell_type": "code",
   "execution_count": 1,
   "metadata": {},
   "outputs": [],
   "source": [
    "import math\n",
    "import numpy as np\n",
    "import random\n",
    "import copy"
   ]
  },
  {
   "cell_type": "code",
   "execution_count": 2,
   "metadata": {},
   "outputs": [],
   "source": [
    "# Параметры модели Эрдеша-Реньи\n",
    "\n",
    "four_edges_count = 0  # счетчик графов с 4 ребрами\n",
    "n = 10  # число вершин\n",
    "ed = []  # ребра графа\n",
    "nd = range(n) # вершины графа\n",
    "edges_count = 0  # счетчик ребер графа\n",
    "p = 0.3  # вероятность появления ребра между любыми двумя вершинами графа\n",
    "theta = math.log(p/(1-p))  # параметр модели"
   ]
  },
  {
   "cell_type": "code",
   "execution_count": 3,
   "metadata": {},
   "outputs": [],
   "source": [
    "# Алгоритм Метрополиса-Гастингса\n",
    "\n",
    "Graph = [[0] * n for i in range(n)]  # матрица смежности начального графа\n",
    "\n",
    "N = 170000  # число реализаций\n",
    "\n",
    "for t in range(N):\n",
    "    newGraph = copy.deepcopy(Graph)\n",
    "    \n",
    "    # выбор двух вершин графа\n",
    "    i1 = random.randrange(n-1) \n",
    "    j1 = random.randrange(i1+1,n)\n",
    "    lst_eg = (i1,j1)  # ребро между данными вершинами\n",
    "\n",
    "    # генерируем претендента на следующий граф\n",
    "    if newGraph[i1][j1]:\n",
    "        newGraph[i1][j1]=0\n",
    "        newGraph[j1][i1]=0\n",
    "        A = min(1, math.exp(-theta))  # константа Метрополиса\n",
    "        delta = -1  # изменение в количестве ребер графа\n",
    "    else:\n",
    "        newGraph[i1][j1]=1\n",
    "        newGraph[j1][i1]=1\n",
    "        A = min(1, math.exp(theta))  # константа Метрополиса \n",
    "        delta = 1  # изменение в количестве ребер графа\n",
    "    \n",
    "    # проверка условия принятия\n",
    "    U = random.uniform(0,1)\n",
    "    if U <= A:  \n",
    "        Graph[i1][j1]=newGraph[i1][j1]\n",
    "        Graph[j1][i1]=newGraph[j1][i1]\n",
    "        edges_count += delta\n",
    "        if lst_eg in ed:\n",
    "            ed.remove(lst_eg) # удаление ребра из списка ребер\n",
    "        else:\n",
    "            ed.append(lst_eg) # добавление ребра в список ребер\n",
    "    if edges_count == 4:\n",
    "        four_edges_count += 1"
   ]
  },
  {
   "cell_type": "code",
   "execution_count": 6,
   "metadata": {},
   "outputs": [
    {
     "data": {
      "image/png": "[encoded data removed]",
      "text/plain": [
       "<Figure size 432x288 with 1 Axes>"
      ]
     },
     "metadata": {},
     "output_type": "display_data"
    }
   ],
   "source": [
    "# Визуализация последнего полученного графа\n",
    "\n",
    "import warnings\n",
    "warnings.filterwarnings(\"ignore\", category=UserWarning)\n",
    "import networkx as nx\n",
    "import matplotlib.pyplot as plt\n",
    "\n",
    "def Gr(ed):\n",
    "    G = nx.Graph()\n",
    "    G.add_nodes_from(nd)\n",
    "    G.add_edges_from(ed)\n",
    "\n",
    "    pos = nx.circular_layout(G)\n",
    "    nx.draw_networkx_nodes(G, pos, node_color = 'skyblue')\n",
    "    nx.draw_networkx_labels(G, pos)\n",
    "    nx.draw_networkx_edges(G, pos)\n",
    "    plt.axis('off')\n",
    "    plt.show()\n",
    "Gr(ed)"
   ]
  },
  {
   "cell_type": "markdown",
   "metadata": {},
   "source": [
    "#### Оценка доли графов с четырьмя ребрами"
   ]
  },
  {
   "cell_type": "code",
   "execution_count": 5,
   "metadata": {},
   "outputs": [
    {
     "name": "stdout",
     "output_type": "stream",
     "text": [
      "Доля графов, содердащих ровно 4 ребра: 0.0005294117647058823\n"
     ]
    }
   ],
   "source": [
    "print('Доля графов, содердащих ровно 4 ребра:',four_edges_count/N)"
   ]
  },
  {
   "cell_type": "code",
   "execution_count": 7,
   "metadata": {},
   "outputs": [
    {
     "name": "stdout",
     "output_type": "stream",
     "text": [
      "Теоретическая оценка: 0.000537868801204544\n"
     ]
    }
   ],
   "source": [
    "from sympy import binomial\n",
    "\n",
    "C = binomial(10, 2)  # число всевозможных ребер\n",
    "print('Теоретическая оценка:',binomial(C, 4)*(p**4*(1-p)**(C-4)))"
   ]
  },
  {
   "cell_type": "markdown",
   "metadata": {},
   "source": [
    "Таким образом, полученная оценка примерно равна теоретической."
   ]
  },
  {
   "cell_type": "code",
   "execution_count": null,
   "metadata": {},
   "outputs": [],
   "source": []
  },
  {
   "cell_type": "code",
   "execution_count": null,
   "metadata": {},
   "outputs": [],
   "source": []
  },
  {
   "cell_type": "code",
   "execution_count": null,
   "metadata": {},
   "outputs": [],
   "source": []
  }
 ],
 "metadata": {
  "kernelspec": {
   "display_name": "Python 3",
   "language": "python",
   "name": "python3"
  },
  "language_info": {
   "codemirror_mode": {
    "name": "ipython",
    "version": 3
   },
   "file_extension": ".py",
   "mimetype": "text/x-python",
   "name": "python",
   "nbconvert_exporter": "python",
   "pygments_lexer": "ipython3",
   "version": "3.8.5"
  }
 },
 "nbformat": 4,
 "nbformat_minor": 4
}
